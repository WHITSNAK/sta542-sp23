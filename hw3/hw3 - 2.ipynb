{
 "cells": [
  {
   "cell_type": "code",
   "execution_count": 1,
   "metadata": {},
   "outputs": [],
   "source": [
    "import pandas as pd\n",
    "import numpy as np\n",
    "import matplotlib.pyplot as plt\n",
    "import seaborn as sns\n",
    "import statsmodels.api as sm\n",
    "from scipy import stats\n",
    "from scipy.io import loadmat\n",
    "\n",
    "sns.set_style('whitegrid')"
   ]
  },
  {
   "cell_type": "code",
   "execution_count": 2,
   "metadata": {},
   "outputs": [],
   "source": [
    "R = np.array([\n",
    "    [1382.2, 1114.4],\n",
    "    [1114.4, 1382.2]\n",
    "])\n",
    "r = np.array([1114.4, 591.72])"
   ]
  },
  {
   "cell_type": "code",
   "execution_count": 5,
   "metadata": {},
   "outputs": [],
   "source": [
    "phi = np.linalg.inv(R) @ r"
   ]
  },
  {
   "cell_type": "code",
   "execution_count": 9,
   "metadata": {},
   "outputs": [],
   "source": [
    "sigma2 = 1382.2 - phi@r"
   ]
  },
  {
   "cell_type": "code",
   "execution_count": 12,
   "metadata": {},
   "outputs": [
    {
     "data": {
      "text/plain": [
       "array([[ 0.59780454, -0.48198045],\n",
       "       [-0.48198045,  0.59780454]])"
      ]
     },
     "execution_count": 12,
     "metadata": {},
     "output_type": "execute_result"
    }
   ],
   "source": [
    "(sigma2 * np.linalg.inv(R))"
   ]
  },
  {
   "cell_type": "code",
   "execution_count": 71,
   "metadata": {},
   "outputs": [],
   "source": [
    "r = np.array([1382.2, 1114.4, 591.72, 96.215])\n",
    "phi = np.array([r[1]/r[0]])\n",
    "v = r[0]\n",
    "\n",
    "phis = [phi]\n",
    "vs = [v]\n",
    "for i in range(2, 3+1):\n",
    "    phi_nn = (r[i] - r[1:i][::-1] @ phi) / (r[0] - r[1:i] @ phi)\n",
    "    v = v * (1-phi_nn**2)\n",
    "    phi = np.concatenate([np.array(phi) - np.array(phi)[::-1] * phi_nn, np.array([phi_nn])])\n",
    "    \n",
    "    phis.append(phi)\n",
    "    vs.append(v)"
   ]
  },
  {
   "cell_type": "code",
   "execution_count": 72,
   "metadata": {},
   "outputs": [
    {
     "data": {
      "text/plain": [
       "[array([0.8062509]),\n",
       " array([ 1.31756622, -0.63418882]),\n",
       " array([ 1.36872116, -0.74046636,  0.08066201])]"
      ]
     },
     "execution_count": 72,
     "metadata": {},
     "output_type": "execute_result"
    }
   ],
   "source": [
    "phis"
   ]
  },
  {
   "cell_type": "code",
   "execution_count": 73,
   "metadata": {},
   "outputs": [
    {
     "data": {
      "text/plain": [
       "[1382.2, 826.2854291440104, 820.9093193476307]"
      ]
     },
     "execution_count": 73,
     "metadata": {},
     "output_type": "execute_result"
    }
   ],
   "source": [
    "vs"
   ]
  },
  {
   "cell_type": "code",
   "execution_count": 70,
   "metadata": {},
   "outputs": [
    {
     "data": {
      "text/plain": [
       "array([ 1.36872116, -0.74046636,  0.08066201])"
      ]
     },
     "execution_count": 70,
     "metadata": {},
     "output_type": "execute_result"
    }
   ],
   "source": [
    "# just to make sure durbin levison algo is correct\n",
    "R = np.array([\n",
    "    [1382.2, 1114.4, 591.72],\n",
    "    [1114.4, 1382.2, 1114.4],\n",
    "    [591.72, 1114.4, 1382.2]\n",
    "])\n",
    "r = np.array([1114.4, 591.72, 96.215])\n",
    "\n",
    "np.linalg.inv(R) @ r"
   ]
  },
  {
   "cell_type": "code",
   "execution_count": 81,
   "metadata": {},
   "outputs": [
    {
     "data": {
      "text/plain": [
       "-3.6026598282862254e-05"
      ]
     },
     "execution_count": 81,
     "metadata": {},
     "output_type": "execute_result"
    }
   ],
   "source": [
    "0.081 - 1.96 / np.sqrt(585)"
   ]
  },
  {
   "cell_type": "code",
   "execution_count": 77,
   "metadata": {},
   "outputs": [
    {
     "data": {
      "text/plain": [
       "585.5204999237919"
      ]
     },
     "execution_count": 77,
     "metadata": {},
     "output_type": "execute_result"
    }
   ],
   "source": [
    "(1.96/0.081)**2"
   ]
  }
 ],
 "metadata": {
  "kernelspec": {
   "display_name": "base",
   "language": "python",
   "name": "python3"
  },
  "language_info": {
   "codemirror_mode": {
    "name": "ipython",
    "version": 3
   },
   "file_extension": ".py",
   "mimetype": "text/x-python",
   "name": "python",
   "nbconvert_exporter": "python",
   "pygments_lexer": "ipython3",
   "version": "3.8.10"
  },
  "orig_nbformat": 4,
  "vscode": {
   "interpreter": {
    "hash": "8aa86febbd8b68d3c6a1a0d2cefbe9270b8ac80e62773c8b87751ee948ce61ed"
   }
  }
 },
 "nbformat": 4,
 "nbformat_minor": 2
}
